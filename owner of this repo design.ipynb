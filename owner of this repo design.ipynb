{
  "nbformat": 4,
  "nbformat_minor": 0,
  "metadata": {
    "colab": {
      "provenance": [],
      "authorship_tag": "ABX9TyNtW2lopCxGWWLA0HFOrfSp",
      "include_colab_link": true
    },
    "kernelspec": {
      "name": "python3",
      "display_name": "Python 3"
    },
    "language_info": {
      "name": "python"
    }
  },
  "cells": [
    {
      "cell_type": "markdown",
      "metadata": {
        "id": "view-in-github",
        "colab_type": "text"
      },
      "source": [
        "<a href=\"https://colab.research.google.com/github/Apurv-Bhardwaj/Python-beginner-work-/blob/main/owner%20of%20this%20repo%20design.ipynb\" target=\"_parent\"><img src=\"https://colab.research.google.com/assets/colab-badge.svg\" alt=\"Open In Colab\"/></a>"
      ]
    },
    {
      "cell_type": "code",
      "execution_count": 1,
      "metadata": {
        "colab": {
          "base_uri": "https://localhost:8080/"
        },
        "id": "k8hy3AD4GmmO",
        "outputId": "b1314f61-645b-453f-aae3-8ec1f3cab256"
      },
      "outputs": [
        {
          "output_type": "stream",
          "name": "stdout",
          "text": [
            "hello world\n"
          ]
        }
      ],
      "source": [
        "print(\"hello world\")"
      ]
    },
    {
      "cell_type": "code",
      "source": [
        "# Fancy credits \n",
        "# Demonstrates escape sequence\n",
        "print(\"\\t\\t\\tOwner of this repo\")\n",
        "\n",
        "print(\"\\t\\t\\t \\\\ \\\\ \\\\ \\\\ \\\\ \\\\ \\\\ \\\\\")\n",
        "print(\"\\t\\t\\t\\tby\")\n",
        "print(\"\\t\\t\\tAPURV BHARDWAJ\")\n",
        "print(\"\\t\\t\\t \\\\ \\\\ \\\\ \\\\ \\\\ \\\\ \\\\\")"
      ],
      "metadata": {
        "colab": {
          "base_uri": "https://localhost:8080/"
        },
        "id": "WWQ6wVmvHfq7",
        "outputId": "c3aaf09f-fd13-40b7-edca-c4fd8cd415e3"
      },
      "execution_count": 2,
      "outputs": [
        {
          "output_type": "stream",
          "name": "stdout",
          "text": [
            "\t\t\tOwner of this repo\n",
            "\t\t\t \\ \\ \\ \\ \\ \\ \\ \\\n",
            "\t\t\t\tby\n",
            "\t\t\tAPURV BHARDWAJ\n",
            "\t\t\t \\ \\ \\ \\ \\ \\ \\\n"
          ]
        }
      ]
    }
  ]
}