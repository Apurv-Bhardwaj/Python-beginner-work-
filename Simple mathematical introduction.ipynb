{
  "nbformat": 4,
  "nbformat_minor": 0,
  "metadata": {
    "colab": {
      "provenance": [],
      "authorship_tag": "ABX9TyMEYSY69tDFZsy6dfH6yUK5",
      "include_colab_link": true
    },
    "kernelspec": {
      "name": "python3",
      "display_name": "Python 3"
    },
    "language_info": {
      "name": "python"
    }
  },
  "cells": [
    {
      "cell_type": "markdown",
      "metadata": {
        "id": "view-in-github",
        "colab_type": "text"
      },
      "source": [
        "<a href=\"https://colab.research.google.com/github/Apurv-Bhardwaj/Python-beginner-work-/blob/main/Simple%20mathematical%20introduction.ipynb\" target=\"_parent\"><img src=\"https://colab.research.google.com/assets/colab-badge.svg\" alt=\"Open In Colab\"/></a>"
      ]
    },
    {
      "cell_type": "code",
      "execution_count": 1,
      "metadata": {
        "colab": {
          "base_uri": "https://localhost:8080/"
        },
        "id": "k8hy3AD4GmmO",
        "outputId": "b1314f61-645b-453f-aae3-8ec1f3cab256"
      },
      "outputs": [
        {
          "output_type": "stream",
          "name": "stdout",
          "text": [
            "hello world\n"
          ]
        }
      ],
      "source": [
        "print(\"hello world\")"
      ]
    },
    {
      "cell_type": "code",
      "source": [
        "# Fancy credits \n",
        "# Demonstrates escape sequence\n",
        "print(\"\\t\\t\\tOwner of this repo\")\n",
        "\n",
        "print(\"\\t\\t\\t \\\\ \\\\ \\\\ \\\\ \\\\ \\\\ \\\\ \\\\\")\n",
        "print(\"\\t\\t\\t\\tby\")\n",
        "print(\"\\t\\t\\tAPURV BHARDWAJ\")\n",
        "print(\"\\t\\t\\t \\\\ \\\\ \\\\ \\\\ \\\\ \\\\ \\\\\")"
      ],
      "metadata": {
        "colab": {
          "base_uri": "https://localhost:8080/"
        },
        "id": "WWQ6wVmvHfq7",
        "outputId": "c3aaf09f-fd13-40b7-edca-c4fd8cd415e3"
      },
      "execution_count": 2,
      "outputs": [
        {
          "output_type": "stream",
          "name": "stdout",
          "text": [
            "\t\t\tOwner of this repo\n",
            "\t\t\t \\ \\ \\ \\ \\ \\ \\ \\\n",
            "\t\t\t\tby\n",
            "\t\t\tAPURV BHARDWAJ\n",
            "\t\t\t \\ \\ \\ \\ \\ \\ \\\n"
          ]
        }
      ]
    },
    {
      "cell_type": "code",
      "source": [
        "print(\"\\a\")"
      ],
      "metadata": {
        "colab": {
          "base_uri": "https://localhost:8080/"
        },
        "id": "fGw-EmLOLIsQ",
        "outputId": "168a3bb6-a2ba-48ee-c3b8-2ece1b65267e"
      },
      "execution_count": 9,
      "outputs": [
        {
          "output_type": "stream",
          "name": "stdout",
          "text": [
            "\u0007\n"
          ]
        }
      ]
    },
    {
      "cell_type": "code",
      "source": [
        "# word problems to showcase basic mathmatical equations\n",
        "print(\"if a person has y apples\")\n",
        "y = int(input(\"enter the value for y = \"))\n",
        "print(\"and x apples get taken away\")\n",
        "x = int(input(\"enter the value of x = \"))\n",
        "print(\"How many apples does he\\she have now in total?\")\n",
        "sub = y - x\n",
        "print(\"y - x = \", sub)"
      ],
      "metadata": {
        "colab": {
          "base_uri": "https://localhost:8080/"
        },
        "id": "sF6WkXZvLj_w",
        "outputId": "a68aec79-ada5-40e3-b64c-b876634df1ba"
      },
      "execution_count": 26,
      "outputs": [
        {
          "output_type": "stream",
          "name": "stdout",
          "text": [
            "if a person has y apples\n",
            "enter the value for y = 2500\n",
            "and x apples get taken away\n",
            "enter the value of x = 250\n",
            "How many apples does he\\she have now in total?\n",
            "y - x =  2250\n"
          ]
        }
      ]
    }
  ]
}