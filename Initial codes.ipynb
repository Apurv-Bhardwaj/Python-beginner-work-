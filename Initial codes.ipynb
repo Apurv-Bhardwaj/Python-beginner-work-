{
  "nbformat": 4,
  "nbformat_minor": 0,
  "metadata": {
    "colab": {
      "provenance": [],
      "authorship_tag": "ABX9TyMmU62qS19Io8Ujup7TqlYh",
      "include_colab_link": true
    },
    "kernelspec": {
      "name": "python3",
      "display_name": "Python 3"
    },
    "language_info": {
      "name": "python"
    }
  },
  "cells": [
    {
      "cell_type": "markdown",
      "metadata": {
        "id": "view-in-github",
        "colab_type": "text"
      },
      "source": [
        "<a href=\"https://colab.research.google.com/github/Apurv-Bhardwaj/Python-beginner-work-/blob/main/Initial%20codes.ipynb\" target=\"_parent\"><img src=\"https://colab.research.google.com/assets/colab-badge.svg\" alt=\"Open In Colab\"/></a>"
      ]
    },
    {
      "cell_type": "markdown",
      "source": [
        "#1 - Hello world!"
      ],
      "metadata": {
        "id": "LkxJPyIVVZT9"
      }
    },
    {
      "cell_type": "code",
      "execution_count": 1,
      "metadata": {
        "colab": {
          "base_uri": "https://localhost:8080/"
        },
        "id": "k8hy3AD4GmmO",
        "outputId": "b1314f61-645b-453f-aae3-8ec1f3cab256"
      },
      "outputs": [
        {
          "output_type": "stream",
          "name": "stdout",
          "text": [
            "hello world\n"
          ]
        }
      ],
      "source": [
        "print(\"hello world\")"
      ]
    },
    {
      "cell_type": "markdown",
      "source": [
        "#2 Basic text printing"
      ],
      "metadata": {
        "id": "FnTrqVEJVb0A"
      }
    },
    {
      "cell_type": "code",
      "source": [
        "# Fancy credits \n",
        "# Demonstrates escape sequence\n",
        "print(\"\\t\\t\\tOwner of this repo\")\n",
        "\n",
        "print(\"\\t\\t\\t \\\\ \\\\ \\\\ \\\\ \\\\ \\\\ \\\\ \\\\\")\n",
        "print(\"\\t\\t\\t\\tby\")\n",
        "print(\"\\t\\t\\tAPURV BHARDWAJ\")\n",
        "print(\"\\t\\t\\t \\\\ \\\\ \\\\ \\\\ \\\\ \\\\ \\\\\")"
      ],
      "metadata": {
        "colab": {
          "base_uri": "https://localhost:8080/"
        },
        "id": "WWQ6wVmvHfq7",
        "outputId": "c3aaf09f-fd13-40b7-edca-c4fd8cd415e3"
      },
      "execution_count": 2,
      "outputs": [
        {
          "output_type": "stream",
          "name": "stdout",
          "text": [
            "\t\t\tOwner of this repo\n",
            "\t\t\t \\ \\ \\ \\ \\ \\ \\ \\\n",
            "\t\t\t\tby\n",
            "\t\t\tAPURV BHARDWAJ\n",
            "\t\t\t \\ \\ \\ \\ \\ \\ \\\n"
          ]
        }
      ]
    },
    {
      "cell_type": "markdown",
      "source": [
        "#3 - printing bell sound"
      ],
      "metadata": {
        "id": "XnZJyl0FVfLo"
      }
    },
    {
      "cell_type": "code",
      "source": [
        "print(\"\\a\")"
      ],
      "metadata": {
        "colab": {
          "base_uri": "https://localhost:8080/"
        },
        "id": "fGw-EmLOLIsQ",
        "outputId": "86e491d8-fe74-449a-c1c2-e2dd5edd108a"
      },
      "execution_count": 8,
      "outputs": [
        {
          "output_type": "stream",
          "name": "stdout",
          "text": [
            "\u0007\n"
          ]
        }
      ]
    },
    {
      "cell_type": "markdown",
      "source": [
        "#4 - Simple mathematical subtraction problem \n"
      ],
      "metadata": {
        "id": "Ko0Hqfj-VjhA"
      }
    },
    {
      "cell_type": "code",
      "source": [
        "# word problems to showcase basic mathmatical equations\n",
        "print(\"if a person has y apples\")\n",
        "y = int(input(\"enter the value for y = \"))\n",
        "print(\"and x apples get taken away\")\n",
        "x = int(input(\"enter the value of x = \"))\n",
        "print(\"How many apples does he\\she have now in total?\")\n",
        "sub = y - x\n",
        "print(\"y - x = \", sub)"
      ],
      "metadata": {
        "colab": {
          "base_uri": "https://localhost:8080/"
        },
        "id": "sF6WkXZvLj_w",
        "outputId": "a68aec79-ada5-40e3-b64c-b876634df1ba"
      },
      "execution_count": 26,
      "outputs": [
        {
          "output_type": "stream",
          "name": "stdout",
          "text": [
            "if a person has y apples\n",
            "enter the value for y = 2500\n",
            "and x apples get taken away\n",
            "enter the value of x = 250\n",
            "How many apples does he\\she have now in total?\n",
            "y - x =  2250\n"
          ]
        }
      ]
    },
    {
      "cell_type": "markdown",
      "source": [
        "#5 - To check if you qualify for the space program (made-up)"
      ],
      "metadata": {
        "id": "7XrPbYR7VnD0"
      }
    },
    {
      "cell_type": "code",
      "source": [
        "name = input(\"Hi! what is your name? = \")\n",
        "age = input(\"How old are you? = \")\n",
        "age = int(age)\n",
        "print(\"Welcome aboard the future program!\")\n",
        "weight = int(input(\"Last question!, what is your weight? (kgs) = \"))\n",
        "if weight < 50:\n",
        "  print(\"Youre all good!\")\n",
        "else: \n",
        "  print(\"go hit the gym first fatso\")"
      ],
      "metadata": {
        "colab": {
          "base_uri": "https://localhost:8080/"
        },
        "id": "b0NkCACdRAsT",
        "outputId": "c253a529-1a46-4f74-8c66-3eba34c50601"
      },
      "execution_count": 37,
      "outputs": [
        {
          "output_type": "stream",
          "name": "stdout",
          "text": [
            "Hi! what is your name? = sanya\n",
            "How old are you? = 12\n",
            "Welcome aboard the future program!\n",
            "Last question!, what is your weight? (kgs) = 45\n",
            "Youre all good!\n"
          ]
        }
      ]
    },
    {
      "cell_type": "markdown",
      "source": [],
      "metadata": {
        "id": "SOQf8DmyVXjE"
      }
    },
    {
      "cell_type": "markdown",
      "source": [
        "#6 - Converting age to seconds"
      ],
      "metadata": {
        "id": "kZ5Ct0y6VqI6"
      }
    },
    {
      "cell_type": "code",
      "source": [
        "name = input(\"Hey what is your name?\")\n",
        "age = int(input(\"how old are you = \"))\n",
        "age = int(age)\n",
        "seconds = age * 365 * 24 *60 * 60\n",
        "print(\"\\nYou're over\", seconds, \"seconds old.\")\n"
      ],
      "metadata": {
        "colab": {
          "base_uri": "https://localhost:8080/"
        },
        "id": "6QvTCoAlT4fz",
        "outputId": "f1fb6476-b641-4868-ab6e-bfb4b1b4e7f1"
      },
      "execution_count": 2,
      "outputs": [
        {
          "output_type": "stream",
          "name": "stdout",
          "text": [
            "Hey what is your name?sanya\n",
            "how old are you = 19\n",
            "\n",
            "You're over 599184000 seconds old.\n"
          ]
        }
      ]
    },
    {
      "cell_type": "markdown",
      "source": [
        "#7 - Weight on the moon"
      ],
      "metadata": {
        "id": "RR3v12F6WcvI"
      }
    },
    {
      "cell_type": "code",
      "source": [
        "print(\"today i'll tell you how much you weigh on the moon!\")\n",
        "weight = int(input(\"your weight is? = \"))\n",
        "moon_weight = weight / 6\n",
        "print(\"Your weight on the moon is\", moon_weight, \"kgs\")"
      ],
      "metadata": {
        "colab": {
          "base_uri": "https://localhost:8080/"
        },
        "id": "GMLW6OHmVwWo",
        "outputId": "4a21d690-ed4a-41df-d855-c0c839a56fc9"
      },
      "execution_count": 5,
      "outputs": [
        {
          "output_type": "stream",
          "name": "stdout",
          "text": [
            "today i'll tell you how much you weigh on the moon!\n",
            "your weight is? = 45\n",
            "Your weight on the moon is 7.5 kgs\n"
          ]
        }
      ]
    },
    {
      "cell_type": "markdown",
      "source": [
        "#8 - Weight on the sun"
      ],
      "metadata": {
        "id": "1_lBds1yWfZX"
      }
    },
    {
      "cell_type": "code",
      "source": [
        "print(\"Hi, today i will tel you wour weight on the sun (if you are lucky enough to survive there)\")\n",
        "weight = int(input(\"your weight on earth is? = \"))\n",
        "sun_weight = weight * 27.1\n",
        "print(\"your weight on the sun is\", sun_weight, \"kgs\")"
      ],
      "metadata": {
        "colab": {
          "base_uri": "https://localhost:8080/"
        },
        "id": "ENGk_MXsWfzL",
        "outputId": "975fb5b4-d412-457e-9fd1-be721bad317d"
      },
      "execution_count": 7,
      "outputs": [
        {
          "output_type": "stream",
          "name": "stdout",
          "text": [
            "Hi, today i will tel you wour weight on the sun (if you are lucky enough to survive there)\n",
            "your weight on earth is? = 80\n",
            "your weight on the sun is 2168.0 kgs\n"
          ]
        }
      ]
    }
  ]
}