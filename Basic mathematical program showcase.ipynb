# word problems to showcase basic mathmatical equations
print("if a person has y apples")
y = int(input("enter the value for y = "))
print("and x apples get taken away")
x = int(input("enter the value of x = "))
print("How many apples does he\she have now in total?")
sub = y - x
print("y - x = ", sub)
